{
 "cells": [
  {
   "cell_type": "code",
   "execution_count": 1,
   "metadata": {
    "collapsed": false
   },
   "outputs": [],
   "source": [
    "import time\n",
    "import csv\n",
    "import pandas as pd\n",
    "import argparse\n",
    "import numpy as np\n",
    "import random\n",
    "from multiprocessing import *\n",
    "\n",
    "\n",
    "from lib.OsrmEngine import *\n",
    "from lib.OsrmUtils import *"
   ]
  },
  {
   "cell_type": "code",
   "execution_count": 2,
   "metadata": {
    "collapsed": false
   },
   "outputs": [
    {
     "data": {
      "text/plain": [
       "'The routing server \"http://0.0.0.0:5000\" starts running'"
      ]
     },
     "execution_count": 2,
     "metadata": {},
     "output_type": "execute_result"
    }
   ],
   "source": [
    "ghost = '0.0.0.0'\n",
    "gport = 5000\n",
    "exe_loc = './osrm-backend-5.6.0/build/osrm-routed'\n",
    "map_loc = './osrm-backend-5.6.0/greater-london-latest.osrm'\n",
    "\n",
    "osrm = OsrmEngine(exe_loc, map_loc)\n",
    "osrm.start_server()"
   ]
  },
  {
   "cell_type": "code",
   "execution_count": 7,
   "metadata": {
    "collapsed": false
   },
   "outputs": [
    {
     "name": "stdout",
     "output_type": "stream",
     "text": [
      "3.190641164779663\n"
     ]
    }
   ],
   "source": [
    "olat = 0.089653\n",
    "olon = 51.373206\n",
    "dlat = 0.089282\n",
    "dlon = 51.350675\n",
    "\n",
    "stime = time.time()\n",
    "for i in range(1000):\n",
    "    o1 = random.uniform(-0.01, 0.01)\n",
    "    o2 = random.uniform(-0.01, 0.01)\n",
    "    d1 = random.uniform(-0.01, 0.01)\n",
    "    d2 = random.uniform(-0.01, 0.01)\n",
    "    url = create_url(ghost, gport, olat+o1, olon+o2, dlat+d1, dlon+d2)\n",
    "    out = call_url(url)\n",
    "etime = time.time()\n",
    "print(etime-stime)"
   ]
  },
  {
   "cell_type": "code",
   "execution_count": 8,
   "metadata": {
    "collapsed": true
   },
   "outputs": [],
   "source": [
    "osrm.kill_server()"
   ]
  },
  {
   "cell_type": "code",
   "execution_count": null,
   "metadata": {
    "collapsed": true
   },
   "outputs": [],
   "source": []
  }
 ],
 "metadata": {
  "kernelspec": {
   "display_name": "Python 3",
   "language": "python",
   "name": "python3"
  },
  "language_info": {
   "codemirror_mode": {
    "name": "ipython",
    "version": 3
   },
   "file_extension": ".py",
   "mimetype": "text/x-python",
   "name": "python",
   "nbconvert_exporter": "python",
   "pygments_lexer": "ipython3",
   "version": "3.6.0"
  }
 },
 "nbformat": 4,
 "nbformat_minor": 2
}
